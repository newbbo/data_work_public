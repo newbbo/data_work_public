{
  "cells": [
    {
      "cell_type": "code",
      "execution_count": null,
      "metadata": {
        "id": "qq6HHEIrwvnC"
      },
      "outputs": [],
      "source": [
        "!pip install mmcv-full -f https://download.openmmlab.com/mmcv/dist/cu113/torch1.12.0/index.html\n",
        "!git clone https://github.com/open-mmlab/mmdetection.git\n",
        "%cd mmdetection\n",
        "!pip install -r requirements/build.txt\n",
        "!pip install -v -e .\n",
        "!pip install mmdet"
      ]
    },
    {
      "cell_type": "code",
      "source": [
        "from google.colab import drive\n",
        "drive.mount('/content/drive')"
      ],
      "metadata": {
        "colab": {
          "base_uri": "https://localhost:8080/"
        },
        "id": "PGADx3XlHuNH",
        "outputId": "30e2f14f-7e0e-42cf-a02b-b17cfd52d2b6"
      },
      "execution_count": null,
      "outputs": [
        {
          "output_type": "stream",
          "name": "stdout",
          "text": [
            "Mounted at /content/drive\n"
          ]
        }
      ]
    },
    {
      "cell_type": "code",
      "execution_count": null,
      "metadata": {
        "colab": {
          "base_uri": "https://localhost:8080/"
        },
        "id": "OITopk42KKVC",
        "outputId": "cbedad57-a9cf-4068-ea18-a758000bf391"
      },
      "outputs": [
        {
          "output_type": "stream",
          "name": "stdout",
          "text": [
            "dict_keys(['images', 'categories'])\n"
          ]
        }
      ],
      "source": [
        "import json\n",
        "\n",
        "with open(\"/content/mmdetection/data/dataset/label_test.json\") as f:\n",
        "  data_train = json.load(f)\n",
        "\n",
        "data_train['categories'] = [{'id': 1, 'name': 'Normal'}]\n",
        "\n",
        "print(data_train.keys())\n",
        "\n",
        "with open('/content/mmdetection/data/dataset/test.json', 'w') as f:\n",
        "    json.dump(data_train, f)"
      ]
    },
    {
      "cell_type": "code",
      "source": [
        "%cd /content/mmdetection\n",
        "%mkdir checkpoint\n",
        "%cd /content/mmdetection/checkpoint\n",
        "!wget https://download.openmmlab.com/mmdetection/v2.0/mask_rcnn/mask_rcnn_x101_64x4d_fpn_mstrain-poly_3x_coco/mask_rcnn_x101_64x4d_fpn_mstrain-poly_3x_coco_20210526_120447-c376f129.pth"
      ],
      "metadata": {
        "id": "vbBkA4jqIc2g"
      },
      "execution_count": null,
      "outputs": []
    },
    {
      "cell_type": "code",
      "source": [
        "!pip install roboflow\n",
        "%cd /content/drive/MyDrive/colab/com\n",
        "\n",
        "from roboflow import Roboflow\n",
        "rf = Roboflow(api_key=\"API-KEY\")\n",
        "project = rf.workspace(\"ID\").project(\"PJ_NAME)\n",
        "dataset = project.version(11).download(\"coco-segmentation\")"
      ],
      "metadata": {
        "id": "EzmyR5w1KoPf"
      },
      "execution_count": null,
      "outputs": []
    },
    {
      "cell_type": "code",
      "source": [
        "%cd /content/drive/MyDrive/colab/com/final_dataset\n",
        "\n",
        "import shutil\n",
        "\n",
        "file_source = 'train/'\n",
        "file_destination = '.'\n",
        "\n",
        "shutil.move(file_source + '_annotations.coco.json', file_destination)"
      ],
      "metadata": {
        "colab": {
          "base_uri": "https://localhost:8080/",
          "height": 54
        },
        "id": "pAJHkD2dLjpD",
        "outputId": "f8e182b0-6b95-4563-ccdf-b31e12b24b1e"
      },
      "execution_count": null,
      "outputs": [
        {
          "output_type": "stream",
          "name": "stdout",
          "text": [
            "/content/drive/MyDrive/colab/lg_com/final_dataset\n"
          ]
        },
        {
          "output_type": "execute_result",
          "data": {
            "text/plain": [
              "'./_annotations.coco.json'"
            ],
            "application/vnd.google.colaboratory.intrinsic+json": {
              "type": "string"
            }
          },
          "metadata": {},
          "execution_count": 3
        }
      ]
    },
    {
      "cell_type": "code",
      "source": [
        "import json\n",
        "\n",
        "with open(\"_annotations.coco.json\") as f:\n",
        "  data_test = json.load(f)\n",
        "\n",
        "data_test['categories'] = [{'id': 1, 'name': 'Normal'}]\n",
        "\n",
        "print(data_test.keys())\n",
        "\n",
        "with open('_annotations.coco.json', 'w') as f:\n",
        "    json.dump(data_test, f)"
      ],
      "metadata": {
        "colab": {
          "base_uri": "https://localhost:8080/"
        },
        "id": "zwS_ihbVLryp",
        "outputId": "766582cc-a015-42d8-be20-396b99608a94"
      },
      "execution_count": null,
      "outputs": [
        {
          "output_type": "stream",
          "name": "stdout",
          "text": [
            "dict_keys(['info', 'licenses', 'categories', 'images', 'annotations'])\n"
          ]
        }
      ]
    },
    {
      "cell_type": "code",
      "source": [
        "import json\n",
        "\n",
        "with open(\"_annotations.coco.json\") as f:\n",
        "  data_test = json.load(f)\n",
        "\n",
        "data_test['categories']"
      ],
      "metadata": {
        "colab": {
          "base_uri": "https://localhost:8080/"
        },
        "id": "qtHnaM2qLtin",
        "outputId": "2ba70692-0510-48a2-e92e-087f95a46a9b"
      },
      "execution_count": null,
      "outputs": [
        {
          "output_type": "execute_result",
          "data": {
            "text/plain": [
              "[{'id': 1, 'name': 'Normal'}]"
            ]
          },
          "metadata": {},
          "execution_count": 5
        }
      ]
    },
    {
      "cell_type": "code",
      "source": [
        "# custom/bora_mask.py\n",
        "_base_ = '/content/mmdetection/configs/convnext/cascade_mask_rcnn_convnext-s_p4_w7_fpn_giou_4conv1f_fp16_ms-crop_3x_coco.py'\n",
        " \n",
        "image_size = (1024, 1280)\n",
        "dataset_type = 'CocoDataset'\n",
        "\n",
        "# 데이터 폴더 설정\n",
        "data_root = '/content/drive/MyDrive/colab/com/final_dataset/'\n",
        "classes = ('Normal',)\n",
        "\n",
        "# 데이터 설정\n",
        "data = dict(\n",
        "    samples_per_gpu=1,\n",
        "    workers_per_gpu=1,\n",
        "    train=dict(\n",
        "      img_prefix=data_root + \"train/\",\n",
        "      classes = classes,\n",
        "      ann_file=data_root + \"_annotations.coco.json\"\n",
        "),\n",
        "    val=dict(\n",
        "        img_prefix=data_root + \"train/\",\n",
        "        classes = classes,\n",
        "        ann_file=data_root + \"_annotations.coco.json\"\n",
        "),\n",
        "    test=dict(\n",
        "        img_prefix=data_root + \"test/\",\n",
        "        classes = classes,\n",
        "        ann_file=data_root + \"test.json\"\n",
        ")\n",
        ")\n",
        "# log 저장 위치\n",
        "checkpoint_config = dict(interval=3,out_dir='/content/drive/MyDrive/colab/com/final_dataset/0805_convnext')\n",
        "\n",
        "# 평가 방법\n",
        "evaluation = dict(interval=3, metric=['bbox', 'segm'])\n",
        "\n",
        "# 사전 가중치 사용\n",
        "# https://download.openmmlab.com/mmdetection/v2.0/mask_rcnn/mask_rcnn_x101_64x4d_fpn_mstrain-poly_3x_coco/mask_rcnn_x101_64x4d_fpn_mstrain-poly_3x_coco_20210526_120447-c376f129.pth\n",
        "# pretrained = '/content/mmdetection/checkpoint/mask_rcnn_x101_64x4d_fpn_mstrain-poly_3x_coco_20210526_120447-c376f129.pth'\n",
        "\n",
        "# epoch 설정 \n",
        "#runner = dict(type='IterBasedRunner', max_iters=5000)\n",
        "runner = dict(type='EpochBasedRunner', max_epochs= 12)\n",
        "\n",
        "# batch size 설정\n",
        "auto_scale_lr = dict(enable=False, base_batch_size=2)"
      ],
      "metadata": {
        "id": "zj9O5NcAJbt7"
      },
      "execution_count": null,
      "outputs": []
    },
    {
      "cell_type": "code",
      "source": [
        "import json\n",
        "\n",
        "with open(\"/content/drive/MyDrive/InstanceSegmentTest/dataset/test.json\") as f:\n",
        "  data_train = json.load(f)\n",
        "\n",
        "data_train['categories'] = [{'id': 1, 'name': 'Normal'}]\n",
        "\n",
        "print(data_train.keys())\n",
        "\n",
        "with open('/content/drive/MyDrive/InstanceSegmentTest/dataset/test.json', 'w') as f:\n",
        "    json.dump(data_train, f)"
      ],
      "metadata": {
        "colab": {
          "base_uri": "https://localhost:8080/"
        },
        "id": "UOkYvjtaVDrU",
        "outputId": "292bc0f8-9e95-439d-d7be-c45c0cdbf22e"
      },
      "execution_count": null,
      "outputs": [
        {
          "output_type": "stream",
          "name": "stdout",
          "text": [
            "dict_keys(['images', 'categories'])\n"
          ]
        }
      ]
    },
    {
      "cell_type": "code",
      "source": [
        "import os\n",
        "os.chdir('/content/mmdetection/')"
      ],
      "metadata": {
        "id": "MS4ZwfuRHH17"
      },
      "execution_count": null,
      "outputs": []
    },
    {
      "cell_type": "code",
      "source": [
        "!pip install mmcls"
      ],
      "metadata": {
        "colab": {
          "base_uri": "https://localhost:8080/"
        },
        "id": "3duf02sYmhzz",
        "outputId": "98476261-3bd3-40a8-fe56-2522fefa35f9"
      },
      "execution_count": null,
      "outputs": [
        {
          "output_type": "stream",
          "name": "stdout",
          "text": [
            "Looking in indexes: https://pypi.org/simple, https://us-python.pkg.dev/colab-wheels/public/simple/\n",
            "Collecting mmcls\n",
            "  Downloading mmcls-0.23.2-py2.py3-none-any.whl (578 kB)\n",
            "\u001b[K     |████████████████████████████████| 578 kB 20.8 MB/s \n",
            "\u001b[?25hRequirement already satisfied: matplotlib in /usr/local/lib/python3.7/dist-packages (from mmcls) (3.2.2)\n",
            "Requirement already satisfied: numpy in /usr/local/lib/python3.7/dist-packages (from mmcls) (1.21.6)\n",
            "Requirement already satisfied: packaging in /usr/local/lib/python3.7/dist-packages (from mmcls) (21.3)\n",
            "Requirement already satisfied: cycler>=0.10 in /usr/local/lib/python3.7/dist-packages (from matplotlib->mmcls) (0.11.0)\n",
            "Requirement already satisfied: python-dateutil>=2.1 in /usr/local/lib/python3.7/dist-packages (from matplotlib->mmcls) (2.8.2)\n",
            "Requirement already satisfied: pyparsing!=2.0.4,!=2.1.2,!=2.1.6,>=2.0.1 in /usr/local/lib/python3.7/dist-packages (from matplotlib->mmcls) (3.0.9)\n",
            "Requirement already satisfied: kiwisolver>=1.0.1 in /usr/local/lib/python3.7/dist-packages (from matplotlib->mmcls) (1.4.4)\n",
            "Requirement already satisfied: typing-extensions in /usr/local/lib/python3.7/dist-packages (from kiwisolver>=1.0.1->matplotlib->mmcls) (4.1.1)\n",
            "Requirement already satisfied: six>=1.5 in /usr/local/lib/python3.7/dist-packages (from python-dateutil>=2.1->matplotlib->mmcls) (1.15.0)\n",
            "Installing collected packages: mmcls\n",
            "Successfully installed mmcls-0.23.2\n"
          ]
        }
      ]
    },
    {
      "cell_type": "code",
      "source": [
        "!python ./tools/train.py /content/mmdetection/configs/custom/bora_mask.py --work-dir /content/drive/MyDrive/colab/com/final_dataset/0805_convnext"
      ],
      "metadata": {
        "id": "BBAe6AypHY5H"
      },
      "execution_count": null,
      "outputs": []
    },
    {
      "cell_type": "code",
      "source": [
        "#!python tools/test.py /content/mmdetection/configs/custom/bora_mask.py /content/drive/MyDrive/InstanceSegmentTest/dataset/'output_0801_(1)'/bora_0802/latest.pth --show-dir results/bora_mask --format-only --eval-options \"jsonfile_prefix=./work_dirs/bora_cfg/\"\n",
        "!python tools/test.py /content/mmdetection/configs/custom/bora_mask.py /content/drive/MyDrive/InstanceSegmentTest/dataset/'output_0801_(1)'/bora_0802/latest.pth --format-only --eval-options \"jsonfile_prefix=./work_dirs/bora_cfg/\""
      ],
      "metadata": {
        "colab": {
          "base_uri": "https://localhost:8080/"
        },
        "id": "_vv17t_eMfLk",
        "outputId": "9252a616-98e3-4ed9-bbab-2ef2ccb00730"
      },
      "execution_count": null,
      "outputs": [
        {
          "output_type": "stream",
          "name": "stdout",
          "text": [
            "loading annotations into memory...\n",
            "Done (t=0.54s)\n",
            "creating index...\n",
            "index created!\n",
            "load checkpoint from local path: /content/drive/MyDrive/InstanceSegmentTest/dataset/output_0801_(1)/bora_0802/latest.pth\n",
            "[                                                  ] 0/350, elapsed: 0s, ETA:/content/mmdetection/mmdet/models/utils/positional_encoding.py:81: UserWarning: __floordiv__ is deprecated, and its behavior will change in a future version of pytorch. It currently rounds toward 0 (like the 'trunc' function NOT 'floor'). This results in incorrect rounding for negative values. To keep the current behavior, use torch.div(a, b, rounding_mode='trunc'), or for actual floor division, use torch.div(a, b, rounding_mode='floor').\n",
            "  dim_t = self.temperature**(2 * (dim_t // 2) / self.num_feats)\n",
            "/usr/local/lib/python3.7/dist-packages/torch/functional.py:478: UserWarning: torch.meshgrid: in an upcoming release, it will be required to pass the indexing argument. (Triggered internally at  ../aten/src/ATen/native/TensorShape.cpp:2894.)\n",
            "  return _VF.meshgrid(tensors, **kwargs)  # type: ignore[attr-defined]\n",
            "/content/mmdetection/mmdet/models/seg_heads/panoptic_fusion_heads/maskformer_fusion_head.py:144: UserWarning: __floordiv__ is deprecated, and its behavior will change in a future version of pytorch. It currently rounds toward 0 (like the 'trunc' function NOT 'floor'). This results in incorrect rounding for negative values. To keep the current behavior, use torch.div(a, b, rounding_mode='trunc'), or for actual floor division, use torch.div(a, b, rounding_mode='floor').\n",
            "  query_indices = top_indices // self.num_classes\n",
            "[  ] 151/350, 0.5 task/s, elapsed: 282s, ETA:   371s"
          ]
        }
      ]
    },
    {
      "cell_type": "code",
      "execution_count": null,
      "metadata": {
        "id": "xJgywKor3pdG"
      },
      "outputs": [],
      "source": [
        "from glob import glob \n",
        "import cv2\n",
        "from google.colab.patches import cv2_imshow\n",
        "\n",
        "data_list = glob('/content/mmdetection/results/bora_mask/*.jpg')\n",
        "for i in data_list[:2]:\n",
        "  src = cv2.imread(i)\n",
        "  cv2_imshow(src)"
      ]
    },
    {
      "cell_type": "code",
      "execution_count": null,
      "metadata": {
        "id": "B7EnXs0A5Bnw",
        "colab": {
          "base_uri": "https://localhost:8080/"
        },
        "outputId": "186a173c-5442-40b5-b9c6-7a97cf0ef3fb"
      },
      "outputs": [
        {
          "output_type": "execute_result",
          "data": {
            "text/plain": [
              "['.bbox.json', '.segm.json']"
            ]
          },
          "metadata": {},
          "execution_count": 12
        }
      ],
      "source": [
        "os.listdir('/content/mmdetection/work_dirs/bora_cfg/')"
      ]
    },
    {
      "cell_type": "code",
      "execution_count": null,
      "metadata": {
        "id": "ETZPGLG55FL-"
      },
      "outputs": [],
      "source": [
        "import json\n",
        "\n",
        "with open(\"/content/mmdetection/work_dirs/bora_cfg/.bbox.json\") as f:\n",
        "    out_data1 = json.load(f)\n",
        "\n",
        "with open(\"/content/mmdetection/work_dirs/bora_cfg/.segm.json\") as f:\n",
        "    out_data2 = json.load(f)"
      ]
    },
    {
      "cell_type": "code",
      "execution_count": null,
      "metadata": {
        "id": "sB0wH-1m5cnT"
      },
      "outputs": [],
      "source": [
        "with open('/content/mmdetection/work_dirs/bora_cfg/predict.segm.json', 'w') as outfile:\n",
        "    json.dump(out_data2, outfile, indent=4)"
      ]
    },
    {
      "cell_type": "code",
      "execution_count": null,
      "metadata": {
        "id": "UT2OporW6beD"
      },
      "outputs": [],
      "source": [
        "############################################### end #########################"
      ]
    }
  ],
  "metadata": {
    "accelerator": "GPU",
    "colab": {
      "collapsed_sections": [],
      "name": "openmml_usqge_example_1.ipynb",
      "provenance": [],
      "machine_shape": "hm"
    },
    "gpuClass": "standard",
    "kernelspec": {
      "display_name": "Python 3",
      "name": "python3"
    },
    "language_info": {
      "name": "python"
    }
  },
  "nbformat": 4,
  "nbformat_minor": 0
}